{
 "cells": [
  {
   "cell_type": "code",
   "execution_count": null,
   "metadata": {},
   "outputs": [],
   "source": [
    "!pip install -r requirements.txt"
   ]
  },
  {
   "cell_type": "code",
   "execution_count": 1,
   "metadata": {
    "scrolled": false
   },
   "outputs": [
    {
     "name": "stdout",
     "output_type": "stream",
     "text": [
      "Using downloaded and verified file: C:\\Users\\Mattia\\.medmnist\\pathmnist.npz\n",
      "Using downloaded and verified file: C:\\Users\\Mattia\\.medmnist\\pathmnist.npz\n",
      "Using downloaded and verified file: C:\\Users\\Mattia\\.medmnist\\pathmnist.npz\n"
     ]
    },
    {
     "name": "stderr",
     "output_type": "stream",
     "text": [
      " 50%|█████     | 1/2 [00:34<00:34, 34.02s/it]"
     ]
    },
    {
     "name": "stdout",
     "output_type": "stream",
     "text": [
      "Current best AUC: 0.9874962116204564, at epoch: 0\n"
     ]
    },
    {
     "name": "stderr",
     "output_type": "stream",
     "text": [
      "100%|██████████| 2/2 [01:07<00:00, 33.87s/it]"
     ]
    },
    {
     "name": "stdout",
     "output_type": "stream",
     "text": [
      "Current best AUC: 0.9980306148346167, at epoch: 1\n",
      "pathmnist\n",
      "train auc: 0.99775 acc: 0.94612 f1-score: 0.94609\n",
      "val auc: 0.99803 acc: 0.94962 f1-score: 0.94964\n",
      "test auc: 0.97008 acc: 0.84582 f1-score: 0.84404\n",
      "\n"
     ]
    },
    {
     "name": "stderr",
     "output_type": "stream",
     "text": [
      "\n"
     ]
    }
   ],
   "source": [
    "from main import main\n",
    "\n",
    "data_flag = 'pathmnist'\n",
    "output_root = './output'\n",
    "num_epochs = 2\n",
    "gpu_ids = '0'\n",
    "batch_size = 64\n",
    "lr=0.001\n",
    "gamma=0.1\n",
    "size = 28\n",
    "download = True\n",
    "model_flag = 'resnet18'  \n",
    "resize = False \n",
    "as_rgb = False\n",
    "confusion_matrix=True\n",
    "plot_epochs=True\n",
    "run = ''\n",
    "optimizer_type=\"sgd\" \n",
    "\n",
    "metrics=main(data_flag, output_root, num_epochs, gpu_ids, batch_size, lr, gamma, size, download, model_flag, resize, as_rgb, run, confusion_matrix, plot_epochs, optimizer_type)"
   ]
  }
 ],
 "metadata": {
  "kernelspec": {
   "display_name": "Python 3 (ipykernel)",
   "language": "python",
   "name": "python3"
  },
  "language_info": {
   "codemirror_mode": {
    "name": "ipython",
    "version": 3
   },
   "file_extension": ".py",
   "mimetype": "text/x-python",
   "name": "python",
   "nbconvert_exporter": "python",
   "pygments_lexer": "ipython3",
   "version": "3.11.5"
  }
 },
 "nbformat": 4,
 "nbformat_minor": 4
}
